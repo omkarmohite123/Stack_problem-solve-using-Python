{
  "nbformat": 4,
  "nbformat_minor": 0,
  "metadata": {
    "colab": {
      "provenance": [],
      "authorship_tag": "ABX9TyNg5XDrd9zWJt/Btz9Sv5G6",
      "include_colab_link": true
    },
    "kernelspec": {
      "name": "python3",
      "display_name": "Python 3"
    },
    "language_info": {
      "name": "python"
    }
  },
  "cells": [
    {
      "cell_type": "markdown",
      "metadata": {
        "id": "view-in-github",
        "colab_type": "text"
      },
      "source": [
        "<a href=\"https://colab.research.google.com/github/omkarmohite123/Stack_problem-solve-using-Python/blob/main/stack1.ipynb\" target=\"_parent\"><img src=\"https://colab.research.google.com/assets/colab-badge.svg\" alt=\"Open In Colab\"/></a>"
      ]
    },
    {
      "cell_type": "code",
      "source": [
        "\"\"\"\n",
        "Given a string expression examine the correctness of pairs and orders of parantheses using Stack. If it has pair of parentheses print yes else print no\n",
        "\n",
        "Input Description:\n",
        "An expression containing various types of Parentheses.\n",
        "\n",
        "Output Description:\n",
        "Print yes or no based on the given input\n",
        "\n",
        "Sample Input :\n",
        "{([])}\n",
        "Sample Output :\n",
        "yes\n",
        "\n",
        "\"\"\""
      ],
      "metadata": {
        "id": "Ue4d8hr2kEQE"
      },
      "execution_count": null,
      "outputs": []
    },
    {
      "cell_type": "code",
      "source": [
        "#1\n",
        "def pair(o,c):\n",
        "  if o==\"[\" and c==\"]\":\n",
        "    return True\n",
        "  if o==\"{\" and c==\"}\":\n",
        "    return True\n",
        "  if o==\"(\" and c==\")\":\n",
        "    return True\n",
        "def bal(a):\n",
        "  stack=[]\n",
        "  for i in range(len(a)):\n",
        "    if a[i]==\"[\" or a[i]==\"{\" or a[i]==\"(\":\n",
        "      stack.append(a[i])\n",
        "    elif a[i]==\"]\" or a[i]==\"}\" or a[i]==\")\":\n",
        "      if pair(stack[-1],a[i]) or len(stack!=0):\n",
        "        stack.pop()\n",
        "      else:\n",
        "        return False\n",
        "  if len(stack)==0:\n",
        "    return True\n",
        "  else:\n",
        "    return False\n",
        "a=input()\n",
        "if bal(a)==True:\n",
        "  print(\"yes\")\n",
        "else:\n",
        "  print(\"no\")"
      ],
      "metadata": {
        "colab": {
          "base_uri": "https://localhost:8080/"
        },
        "id": "YoRyowwXkEiW",
        "outputId": "57b7216b-e3fd-4aff-d4b3-247b3a4fff9a"
      },
      "execution_count": 12,
      "outputs": [
        {
          "output_type": "stream",
          "name": "stdout",
          "text": [
            "{([])}\n",
            "yes\n"
          ]
        }
      ]
    }
  ]
}