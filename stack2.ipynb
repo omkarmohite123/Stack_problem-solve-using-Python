{
  "nbformat": 4,
  "nbformat_minor": 0,
  "metadata": {
    "colab": {
      "provenance": [],
      "authorship_tag": "ABX9TyO5XnLope7lMXfk9wziKMBR",
      "include_colab_link": true
    },
    "kernelspec": {
      "name": "python3",
      "display_name": "Python 3"
    },
    "language_info": {
      "name": "python"
    }
  },
  "cells": [
    {
      "cell_type": "markdown",
      "metadata": {
        "id": "view-in-github",
        "colab_type": "text"
      },
      "source": [
        "<a href=\"https://colab.research.google.com/github/omkarmohite123/Stack_problem-solve-using-Python/blob/main/stack2.ipynb\" target=\"_parent\"><img src=\"https://colab.research.google.com/assets/colab-badge.svg\" alt=\"Open In Colab\"/></a>"
      ]
    },
    {
      "cell_type": "code",
      "source": [
        "\"\"\"\n",
        "You are provided with a string ‘s’. Your task is to reverse the string using stack Data Structure.\n",
        "\n",
        " \n",
        "\n",
        "Input Description:\n",
        "You are given a string ‘s’.\n",
        "\n",
        "Output Description:\n",
        "Print the reverse string\n",
        "\n",
        "Sample Input :\n",
        "i am jsb\n",
        "Sample Output :\n",
        "jsb am i\n",
        "\n",
        "\"\"\""
      ],
      "metadata": {
        "id": "eKeo4277kplK"
      },
      "execution_count": null,
      "outputs": []
    },
    {
      "cell_type": "code",
      "source": [
        "\n",
        "a=list(map(str,input().split()))\n",
        "b=a[::-1]\n",
        "print(*b)"
      ],
      "metadata": {
        "colab": {
          "base_uri": "https://localhost:8080/"
        },
        "id": "x2SE71kKkptW",
        "outputId": "cea44c1e-ee8f-487f-d6c8-927adec97e55"
      },
      "execution_count": 13,
      "outputs": [
        {
          "output_type": "stream",
          "name": "stdout",
          "text": [
            "i am jsb\n",
            "jsb am i\n"
          ]
        }
      ]
    }
  ]
}