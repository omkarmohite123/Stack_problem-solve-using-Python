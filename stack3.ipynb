{
  "nbformat": 4,
  "nbformat_minor": 0,
  "metadata": {
    "colab": {
      "provenance": [],
      "authorship_tag": "ABX9TyPoqQPoX0ljr9kVhaN8sLBC",
      "include_colab_link": true
    },
    "kernelspec": {
      "name": "python3",
      "display_name": "Python 3"
    },
    "language_info": {
      "name": "python"
    }
  },
  "cells": [
    {
      "cell_type": "markdown",
      "metadata": {
        "id": "view-in-github",
        "colab_type": "text"
      },
      "source": [
        "<a href=\"https://colab.research.google.com/github/omkarmohite123/Stack_problem-solve-using-Python/blob/main/stack3.ipynb\" target=\"_parent\"><img src=\"https://colab.research.google.com/assets/colab-badge.svg\" alt=\"Open In Colab\"/></a>"
      ]
    },
    {
      "cell_type": "code",
      "source": [
        "\"\"\"\n",
        "Given two strings S1 and S2. The task is to find if a string 'S2’' can be obtained by rotating another string 'S1’' by 2 places using Stack.\n",
        "\n",
        "Input Description:\n",
        "The first line of the input contains the string S1. The second line of the input contains the string S2\n",
        "\n",
        "Output Description:\n",
        "Print 1 if the string S2 can be obtained by rotating string S1 by two places else print 0.\n",
        "\n",
        "Sample Input :\n",
        "amazon\n",
        "azonam\n",
        "Sample Output :\n",
        "1\n",
        "\n",
        "\"\"\""
      ],
      "metadata": {
        "id": "EVItMHYzlDLb"
      },
      "execution_count": null,
      "outputs": []
    },
    {
      "cell_type": "code",
      "source": [
        "#50\n",
        "a=input()\n",
        "b=input()\n",
        "a1=list(a)\n",
        "c1=a1[:2]\n",
        "d1=a1[2:]\n",
        "f=d1+c1\n",
        "f1=\"\".join(f)\n",
        "if b==f1:\n",
        "  print(\"1\")\n",
        "else:\n",
        "  print(\"0\")"
      ],
      "metadata": {
        "colab": {
          "base_uri": "https://localhost:8080/"
        },
        "id": "hiQ0njDQlDUV",
        "outputId": "460593d2-cdec-42dc-c41a-5341425bf4f0"
      },
      "execution_count": 14,
      "outputs": [
        {
          "output_type": "stream",
          "name": "stdout",
          "text": [
            "amazon\n",
            "azonam\n",
            "1\n"
          ]
        }
      ]
    }
  ]
}