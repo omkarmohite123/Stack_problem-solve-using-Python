{
  "nbformat": 4,
  "nbformat_minor": 0,
  "metadata": {
    "colab": {
      "provenance": [],
      "authorship_tag": "ABX9TyODF/LgtPeBYe11e/ieZ50m",
      "include_colab_link": true
    },
    "kernelspec": {
      "name": "python3",
      "display_name": "Python 3"
    },
    "language_info": {
      "name": "python"
    }
  },
  "cells": [
    {
      "cell_type": "markdown",
      "metadata": {
        "id": "view-in-github",
        "colab_type": "text"
      },
      "source": [
        "<a href=\"https://colab.research.google.com/github/omkarmohite123/Stack_problem-solve-using-Python/blob/main/stack5.ipynb\" target=\"_parent\"><img src=\"https://colab.research.google.com/assets/colab-badge.svg\" alt=\"Open In Colab\"/></a>"
      ]
    },
    {
      "cell_type": "code",
      "source": [
        "\"\"\"\n",
        "A string containing the prefix expression is given to you.Evaluate it and print the single integer giving the answer.\n",
        "\n",
        "Input Description:\n",
        "You are given a string ‘s’.\n",
        "\n",
        "Output Description:\n",
        "Print the evaluated answer of that string\n",
        "\n",
        "Sample Input :\n",
        "+23\n",
        "Sample Output :\n",
        "5\n",
        "\n",
        "\"\"\""
      ],
      "metadata": {
        "id": "X0pNfDUtl3xp"
      },
      "execution_count": null,
      "outputs": []
    },
    {
      "cell_type": "code",
      "source": [
        "s = list(str(input()))\n",
        "s.reverse()\n",
        "stk = []\n",
        "for i in range(len(s)):\n",
        "    if s[i] not in \"+-*/%\":\n",
        "        stk.insert(0, s[i])\n",
        "    else:\n",
        "        a = int(stk.pop(0))\n",
        "        b = int(stk.pop(0))\n",
        "        if s[i] == '+' : stk.insert(0, a + b)\n",
        "        elif s[i] == '-' : stk.insert(0, a - b)\n",
        "        elif s[i] == '*' : stk.insert(0, a * b)\n",
        "        elif s[i] == '/' : stk.insert(0, a / b)\n",
        "        elif s[i] == '%' : stk.insert(0, a % b)\n",
        "        else: continue\n",
        "print(stk[0])"
      ],
      "metadata": {
        "colab": {
          "base_uri": "https://localhost:8080/"
        },
        "id": "yd9uKWEEl367",
        "outputId": "322cd2c5-3568-4d31-9443-fd2e64f5a076"
      },
      "execution_count": 16,
      "outputs": [
        {
          "output_type": "stream",
          "name": "stdout",
          "text": [
            "+23\n",
            "5\n"
          ]
        }
      ]
    }
  ]
}