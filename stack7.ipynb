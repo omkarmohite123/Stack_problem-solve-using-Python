{
  "nbformat": 4,
  "nbformat_minor": 0,
  "metadata": {
    "colab": {
      "provenance": [],
      "authorship_tag": "ABX9TyN30B1ibMf59wfKOPEA4EaY",
      "include_colab_link": true
    },
    "kernelspec": {
      "name": "python3",
      "display_name": "Python 3"
    },
    "language_info": {
      "name": "python"
    }
  },
  "cells": [
    {
      "cell_type": "markdown",
      "metadata": {
        "id": "view-in-github",
        "colab_type": "text"
      },
      "source": [
        "<a href=\"https://colab.research.google.com/github/omkarmohite123/Stack_problem-solve-using-Python/blob/main/stack7.ipynb\" target=\"_parent\"><img src=\"https://colab.research.google.com/assets/colab-badge.svg\" alt=\"Open In Colab\"/></a>"
      ]
    },
    {
      "cell_type": "code",
      "source": [
        "\"\"\"\n",
        "You are given a postfix expression. Evaluate the given expression and print the result.\n",
        "\n",
        "Input Description:\n",
        "The first line of the input is a string N, containing operators and numbers seperated by the single space which forms a postfix expression\n",
        "\n",
        "Output Description:\n",
        "Evaluate the post expression and print the result.\n",
        "\n",
        "Sample Input :\n",
        "5 3 1 * + 9 -\n",
        "Sample Output :\n",
        "-1\n",
        "\n",
        "\"\"\""
      ],
      "metadata": {
        "id": "WHJw7WpWmsjs"
      },
      "execution_count": null,
      "outputs": []
    },
    {
      "cell_type": "code",
      "source": [
        "s = input().split()\n",
        "stk = []\n",
        "for i in range(len(s)):\n",
        "    if s[i] not in \"+-*/%\":\n",
        "        stk.insert(0, s[i])\n",
        "    else:\n",
        "        a = int(stk.pop(0))\n",
        "        b = int(stk.pop(0))\n",
        "        if s[i] == '+' : stk.insert(0, b + a)\n",
        "        elif s[i] == '-' : stk.insert(0, b - a)\n",
        "        elif s[i] == '*' : stk.insert(0, b * a)\n",
        "        elif s[i] == '/' : stk.insert(0, b / a)\n",
        "        elif s[i] == '%' : stk.insert(0, b % a)\n",
        "        else: continue\n",
        "print(stk[0])"
      ],
      "metadata": {
        "colab": {
          "base_uri": "https://localhost:8080/"
        },
        "id": "5szphfgHmsuz",
        "outputId": "bdc3cf94-0fcb-4378-f3b6-ba774ee20141"
      },
      "execution_count": 18,
      "outputs": [
        {
          "output_type": "stream",
          "name": "stdout",
          "text": [
            "5 3 1 * + 9 -\n",
            "-1\n"
          ]
        }
      ]
    }
  ]
}